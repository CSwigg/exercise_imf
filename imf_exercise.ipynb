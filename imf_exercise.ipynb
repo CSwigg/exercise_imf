{
 "cells": [
  {
   "cell_type": "markdown",
   "metadata": {},
   "source": [
    "# Using the IMF to calculate the mass of a cluster\n",
    "In this exercise, you will define functions that sample an IMF in order to estimate the mass of the cluster, IC 2602."
   ]
  },
  {
   "cell_type": "code",
   "execution_count": 411,
   "metadata": {},
   "outputs": [],
   "source": [
    "import pandas as pd\n",
    "import numpy as np\n",
    "import matplotlib.pyplot as plt\n",
    "from imf import imf\n",
    "\n",
    "import pandas as pd\n",
    "import numpy as np\n",
    "from astropy.io import fits, ascii\n",
    "import mechanize\n",
    "from glob import glob\n",
    "import os\n",
    "import re\n",
    "\n",
    "%matplotlib widget"
   ]
  },
  {
   "cell_type": "markdown",
   "metadata": {},
   "source": [
    "## Step 1\n",
    "Write functions for the Chabrier, Salpeter, and Kroupa IMFs, that each take as input an array of masses between .01 and 100 solar masses, and return the IMFs. Plot all three. "
   ]
  },
  {
   "cell_type": "code",
   "execution_count": 412,
   "metadata": {},
   "outputs": [],
   "source": [
    "m = np.logspace(-2, 2, 1000000) # <-- Use this mass range for defining the IMFs. It needs enough samples to be smooth for integration. "
   ]
  },
  {
   "cell_type": "markdown",
   "metadata": {},
   "source": [
    "## Step 2\n",
    "The IMF can be converted to a probability density function (PDF) and cumulative distribution function (CDF) when given the total mass of the cluster. Write a function that takes in an IMF and a value for the total mass and returns the distribution of masses in the cluster. (Hint: This requires inverse-sampling: https://en.wikipedia.org/wiki/Inverse_transform_sampling)"
   ]
  },
  {
   "cell_type": "markdown",
   "metadata": {},
   "source": [
    "## Step 2 (continued)\n",
    "Using a Kroupa IMF, how many massive stars (> 8 solar masses) are likely to be formed by a 1000 solar mass cluster. Report the median and standard deviations. "
   ]
  },
  {
   "cell_type": "markdown",
   "metadata": {},
   "source": [
    "## Step 3\n",
    "The following cell loads in the data and best-fit isochrone model for the 26 Myr old cluster, IC 2602. Plot the color-magnitude diagram (BP - RP versus G_abs). "
   ]
  },
  {
   "cell_type": "code",
   "execution_count": 416,
   "metadata": {},
   "outputs": [],
   "source": [
    "# read isochrone\n",
    "iso = ascii.read('isochrone.dat', header_start = 14).to_pandas()\n",
    "iso_g = iso['Gmag'].values\n",
    "iso_bp = iso['G_BPmag'].values\n",
    "iso_rp = iso['G_RPmag'].values\n",
    "\n",
    "# read cluster\n",
    "c = pd.read_csv('IC_2602.csv')"
   ]
  },
  {
   "cell_type": "markdown",
   "metadata": {},
   "source": [
    "# Step 3 (continued)\n",
    "Use the isochrone model, which includes information on stellar 'Mass', to estimate the masses of the stars in IC 2602. (Hint: Find the nearest matching point on the isochrone for each star)"
   ]
  },
  {
   "cell_type": "markdown",
   "metadata": {},
   "source": [
    "## Step 4: \n",
    "Plot a histogram of the cluster's mass distribution. \n",
    "\n",
    "It is important to note that this mass distribution isn't complete. Gaia is limited at both the low and high mass ends of the mass function, meaning your plotted distribution is missing mass. "
   ]
  },
  {
   "cell_type": "markdown",
   "metadata": {},
   "source": [
    "# "
   ]
  },
  {
   "cell_type": "markdown",
   "metadata": {},
   "source": [
    "## Step 4 (continued):\n",
    "To estimate the total, initial mass of the cluster, you can find an IMF that matches the observed mass of the cluster within a mass range that is observationally complete. For Gaia, this is roughly between 0.5 and 2 solar masses for nearby clusters. \n",
    "\n",
    "Use your IMF sampling code to find an IMF that best matches the observed mass distribution of IC 2602-- within the completeness bounds. Plot the best imf on top of the observed mass distribution and report the mass of this IMF, which is now your estimated total mass for the cluster. "
   ]
  },
  {
   "cell_type": "markdown",
   "metadata": {},
   "source": [
    "# Step 5 (bonus)\n",
    "Given the best-fitting isochrone for IC 2602 and the best IMF that you have just computed, how many supernovae have already occured in the cluster? (Hint: Stars > 8 solar masses go supernovae, but the time this happens depends on their age.)"
   ]
  }
 ],
 "metadata": {
  "kernelspec": {
   "display_name": "Python 3",
   "language": "python",
   "name": "python3"
  },
  "language_info": {
   "codemirror_mode": {
    "name": "ipython",
    "version": 3
   },
   "file_extension": ".py",
   "mimetype": "text/x-python",
   "name": "python",
   "nbconvert_exporter": "python",
   "pygments_lexer": "ipython3",
   "version": "3.11.0"
  }
 },
 "nbformat": 4,
 "nbformat_minor": 2
}
